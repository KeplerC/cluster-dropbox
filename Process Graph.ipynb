{
 "cells": [
  {
   "cell_type": "code",
   "execution_count": 57,
   "metadata": {},
   "outputs": [],
   "source": [
    "import os \n",
    "for log in os.listdir(\".\"):\n",
    "    if not log.startswith(\"log\"):\n",
    "        continue\n",
    "    dir_name = (\"./\" + log + \"/\") \n",
    "    log_file = dir_name + os.listdir(dir_name)[1]\n",
    "    with open(log_file) as f:\n",
    "        content = f.read()"
   ]
  },
  {
   "cell_type": "code",
   "execution_count": 58,
   "metadata": {},
   "outputs": [],
   "source": [
    "from datetime import datetime\n",
    "def get_timestamp(s):\n",
    "    return datetime.strptime(s.split(\" \")[0], '%H:%M:%S.%f')\n"
   ]
  },
  {
   "cell_type": "code",
   "execution_count": 59,
   "metadata": {},
   "outputs": [
    {
     "data": {
      "text/plain": [
       "datetime.datetime(1900, 1, 1, 4, 29, 10, 60000)"
      ]
     },
     "execution_count": 59,
     "metadata": {},
     "output_type": "execute_result"
    }
   ],
   "source": [
    "get_timestamp(content.split(\"\\n\")[0])"
   ]
  },
  {
   "cell_type": "code",
   "execution_count": 73,
   "metadata": {
    "scrolled": true
   },
   "outputs": [],
   "source": [
    "lines = [l for l in content.split(\"\\n\") if l.find(\"solution\") != -1]\n",
    "start = get_timestamp(content.split(\"\\n\")[0])\n",
    "time = []\n",
    "costs = []\n",
    "for i in range(len(lines)):\n",
    "    line = lines[i]\n",
    "    cost = re.findall(r' [0-9][0-9].[0-9][0-9][0-9][0-9]', line)\n",
    "    if not cost:\n",
    "        continue\n",
    "    time.append((get_timestamp(line) -start).total_seconds())\n",
    "    costs.append(float(cost[0].strip()))"
   ]
  },
  {
   "cell_type": "code",
   "execution_count": 86,
   "metadata": {},
   "outputs": [
    {
     "data": {
      "text/plain": [
       "<matplotlib.legend.Legend at 0x7f5100e51950>"
      ]
     },
     "execution_count": 86,
     "metadata": {},
     "output_type": "execute_result"
    },
    {
     "data": {
      "image/png": "[encoded data removed]",
      "text/plain": [
       "<Figure size 432x288 with 1 Axes>"
      ]
     },
     "metadata": {
      "needs_background": "light"
     },
     "output_type": "display_data"
    }
   ],
   "source": [
    "import matplotlib.pyplot as plt\n",
    "plt.xlabel = \"cost\"\n",
    "plt.plot(time, costs, label = \"5 lambda local\")\n",
    "plt.legend()"
   ]
  },
  {
   "cell_type": "code",
   "execution_count": null,
   "metadata": {},
   "outputs": [],
   "source": []
  }
 ],
 "metadata": {
  "kernelspec": {
   "display_name": "Python 3",
   "language": "python",
   "name": "python3"
  },
  "language_info": {
   "codemirror_mode": {
    "name": "ipython",
    "version": 3
   },
   "file_extension": ".py",
   "mimetype": "text/x-python",
   "name": "python",
   "nbconvert_exporter": "python",
   "pygments_lexer": "ipython3",
   "version": "3.7.6"
  }
 },
 "nbformat": 4,
 "nbformat_minor": 4
}
