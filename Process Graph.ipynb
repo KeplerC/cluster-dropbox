{
 "cells": [
  {
   "cell_type": "code",
   "execution_count": 5,
   "metadata": {},
   "outputs": [
    {
     "data": {
      "image/png": "[encoded data removed]",
      "text/plain": [
       "<Figure size 432x288 with 1 Axes>"
      ]
     },
     "metadata": {
      "needs_background": "light"
     },
     "output_type": "display_data"
    }
   ],
   "source": [
    "import os \n",
    "import matplotlib.pyplot as plt\n",
    "from datetime import datetime, timedelta\n",
    "import re\n",
    "\n",
    "def get_timestamp(s):\n",
    "    return datetime.strptime(s.split(\" \")[0], '%H:%M:%S.%f')\n",
    "\n",
    "for log in os.listdir(\".\"):\n",
    "    if not log.startswith(\"log\"):\n",
    "        continue\n",
    "    dir_name = (\"./\" + log + \"/\") \n",
    "    log_file = dir_name + os.listdir(dir_name)[1]\n",
    "    with open(log_file) as f:\n",
    "        content = f.read()\n",
    "    lines = [l for l in content.split(\"\\n\") if l.find(\"solution\") != -1]\n",
    "    start = get_timestamp(content.split(\"\\n\")[0])\n",
    "    time = []\n",
    "    costs = []\n",
    "    for i in range(len(lines)):\n",
    "        line = lines[i]\n",
    "        cost = re.findall(r' [0-9][0-9].[0-9][0-9][0-9][0-9]', line)\n",
    "        if not cost:\n",
    "            continue\n",
    "            \n",
    "        if (get_timestamp(line) -start).total_seconds() < 0:\n",
    "            time.append((get_timestamp(line) -start + timedelta(days=1)).total_seconds())\n",
    "        else:\n",
    "            time.append((get_timestamp(line) -start).total_seconds())\n",
    "        costs.append(float(cost[0].strip()))\n",
    "\n",
    "    plt.xlabel = \"cost\"\n",
    "    plt.plot(time, costs, label = dir_name)\n",
    "    plt.legend()\n",
    "    plt.savefig(\"result.png\")"
   ]
  },
  {
   "cell_type": "code",
   "execution_count": null,
   "metadata": {},
   "outputs": [],
   "source": []
  }
 ],
 "metadata": {
  "kernelspec": {
   "display_name": "Python 3",
   "language": "python",
   "name": "python3"
  },
  "language_info": {
   "codemirror_mode": {
    "name": "ipython",
    "version": 3
   },
   "file_extension": ".py",
   "mimetype": "text/x-python",
   "name": "python",
   "nbconvert_exporter": "python",
   "pygments_lexer": "ipython3",
   "version": "3.7.6"
  }
 },
 "nbformat": 4,
 "nbformat_minor": 4
}
